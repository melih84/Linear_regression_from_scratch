{
  "nbformat": 4,
  "nbformat_minor": 0,
  "metadata": {
    "colab": {
      "name": "linear_reg_from_scratch.ipynb",
      "provenance": [],
      "collapsed_sections": [],
      "toc_visible": true,
      "mount_file_id": "1v8CGSUwlyBCp94bx70HxUy1-PhWqcjH0",
      "authorship_tag": "ABX9TyNMXH162uHS/J6UVd5fm+I/",
      "include_colab_link": true
    },
    "kernelspec": {
      "name": "python3",
      "display_name": "Python 3"
    }
  },
  "cells": [
    {
      "cell_type": "markdown",
      "metadata": {
        "id": "view-in-github",
        "colab_type": "text"
      },
      "source": [
        "<a href=\"https://colab.research.google.com/github/melih84/Linear_regression_from_scratch/blob/main/linear_reg_from_scratch.ipynb\" target=\"_parent\"><img src=\"https://colab.research.google.com/assets/colab-badge.svg\" alt=\"Open In Colab\"/></a>"
      ]
    },
    {
      "cell_type": "markdown",
      "metadata": {
        "id": "ETZjoagfCq_4"
      },
      "source": [
        "# Linear Regression From Scratch using only Numpy and Pandas"
      ]
    },
    {
      "cell_type": "code",
      "metadata": {
        "id": "PAxzJgitCvsp"
      },
      "source": [
        "import pandas as pd\r\n",
        "import numpy as np\r\n",
        "import matplotlib.pyplot as plt\r\n",
        "%matplotlib inline"
      ],
      "execution_count": 1,
      "outputs": []
    },
    {
      "cell_type": "code",
      "metadata": {
        "colab": {
          "base_uri": "https://localhost:8080/"
        },
        "id": "qz4j9X84C2JU",
        "outputId": "d79b3546-3633-4a65-832b-6cdc5f71444d"
      },
      "source": [
        "# Mounting Drive\r\n",
        "\r\n",
        "from google.colab import drive\r\n",
        "drive.mount('/content/drive')"
      ],
      "execution_count": 2,
      "outputs": [
        {
          "output_type": "stream",
          "text": [
            "Drive already mounted at /content/drive; to attempt to forcibly remount, call drive.mount(\"/content/drive\", force_remount=True).\n"
          ],
          "name": "stdout"
        }
      ]
    },
    {
      "cell_type": "code",
      "metadata": {
        "colab": {
          "base_uri": "https://localhost:8080/"
        },
        "id": "yofndLF6Efhk",
        "outputId": "a2212fec-4159-47f5-e2a6-822231707ed7"
      },
      "source": [
        "%cd '/content/drive/My Drive/Projects'"
      ],
      "execution_count": 3,
      "outputs": [
        {
          "output_type": "stream",
          "text": [
            "/content/drive/My Drive/Projects\n"
          ],
          "name": "stdout"
        }
      ]
    },
    {
      "cell_type": "code",
      "metadata": {
        "id": "iHJcS9_qEwgH"
      },
      "source": [
        "# I will be using the Auto Insurance in Sweden dataset from kaggla (https://www.kaggle.com/sunmarkil/auto-insurance-in-sweden-small-dataset)\r\n",
        "# Where X : number of claims \r\n",
        "# And Y : total payment for all the claims in thousands of Swedish Kronor\r\n",
        "\r\n",
        "# Let's load the data\r\n",
        "\r\n",
        "data = pd.read_csv(\"insurance.csv\", header=None, names=[\"num_claims\", \"payment\"])"
      ],
      "execution_count": 4,
      "outputs": []
    },
    {
      "cell_type": "code",
      "metadata": {
        "colab": {
          "base_uri": "https://localhost:8080/",
          "height": 204
        },
        "id": "4v_pQPqkGIxj",
        "outputId": "27e95de3-bf87-4cc3-d689-abb1ff3211b2"
      },
      "source": [
        "data.head()"
      ],
      "execution_count": 5,
      "outputs": [
        {
          "output_type": "execute_result",
          "data": {
            "text/html": [
              "<div>\n",
              "<style scoped>\n",
              "    .dataframe tbody tr th:only-of-type {\n",
              "        vertical-align: middle;\n",
              "    }\n",
              "\n",
              "    .dataframe tbody tr th {\n",
              "        vertical-align: top;\n",
              "    }\n",
              "\n",
              "    .dataframe thead th {\n",
              "        text-align: right;\n",
              "    }\n",
              "</style>\n",
              "<table border=\"1\" class=\"dataframe\">\n",
              "  <thead>\n",
              "    <tr style=\"text-align: right;\">\n",
              "      <th></th>\n",
              "      <th>num_claims</th>\n",
              "      <th>payment</th>\n",
              "    </tr>\n",
              "  </thead>\n",
              "  <tbody>\n",
              "    <tr>\n",
              "      <th>0</th>\n",
              "      <td>108</td>\n",
              "      <td>392.5</td>\n",
              "    </tr>\n",
              "    <tr>\n",
              "      <th>1</th>\n",
              "      <td>19</td>\n",
              "      <td>46.2</td>\n",
              "    </tr>\n",
              "    <tr>\n",
              "      <th>2</th>\n",
              "      <td>13</td>\n",
              "      <td>15.7</td>\n",
              "    </tr>\n",
              "    <tr>\n",
              "      <th>3</th>\n",
              "      <td>124</td>\n",
              "      <td>422.2</td>\n",
              "    </tr>\n",
              "    <tr>\n",
              "      <th>4</th>\n",
              "      <td>40</td>\n",
              "      <td>119.4</td>\n",
              "    </tr>\n",
              "  </tbody>\n",
              "</table>\n",
              "</div>"
            ],
            "text/plain": [
              "   num_claims  payment\n",
              "0         108    392.5\n",
              "1          19     46.2\n",
              "2          13     15.7\n",
              "3         124    422.2\n",
              "4          40    119.4"
            ]
          },
          "metadata": {
            "tags": []
          },
          "execution_count": 5
        }
      ]
    },
    {
      "cell_type": "code",
      "metadata": {
        "id": "JoBLEubAHIKR"
      },
      "source": [
        "# Let's tranfer our values into two numpy arrays\r\n",
        "\r\n",
        "X = data[\"num_claims\"].values\r\n",
        "Y = data[\"payment\"].values"
      ],
      "execution_count": 6,
      "outputs": []
    },
    {
      "cell_type": "code",
      "metadata": {
        "colab": {
          "base_uri": "https://localhost:8080/"
        },
        "id": "o1uZxjw1IO4e",
        "outputId": "ec506afc-d489-47ba-bf7a-f7d4488b99ab"
      },
      "source": [
        "X"
      ],
      "execution_count": 7,
      "outputs": [
        {
          "output_type": "execute_result",
          "data": {
            "text/plain": [
              "array([108,  19,  13, 124,  40,  57,  23,  14,  45,  10,   5,  48,  11,\n",
              "        23,   7,   2,  24,   6,   3,  23,   6,   9,   9,   3,  29,   7,\n",
              "         4,  20,   7,   4,   0,  25,   6,   5,  22,  11,  61,  12,   4,\n",
              "        16,  13,  60,  41,  37,  55,  41,  11,  27,   8,   3,  17,  13,\n",
              "        13,  15,   8,  29,  30,  24,   9,  31,  14,  53,  26])"
            ]
          },
          "metadata": {
            "tags": []
          },
          "execution_count": 7
        }
      ]
    },
    {
      "cell_type": "code",
      "metadata": {
        "colab": {
          "base_uri": "https://localhost:8080/",
          "height": 353
        },
        "id": "kTLIOfijIRX9",
        "outputId": "c7a3ca19-6855-4eb5-9da0-335d23c56599"
      },
      "source": [
        "# Visializing the data distribution\r\n",
        "\r\n",
        "plt.figure(figsize = (7,5))\r\n",
        "plt.title(\"Distribution\")\r\n",
        "plt.scatter(X,Y)"
      ],
      "execution_count": 8,
      "outputs": [
        {
          "output_type": "execute_result",
          "data": {
            "text/plain": [
              "<matplotlib.collections.PathCollection at 0x7f06480d8350>"
            ]
          },
          "metadata": {
            "tags": []
          },
          "execution_count": 8
        },
        {
          "output_type": "display_data",
          "data": {
            "image/png": "[encoded data removed]",
            "text/plain": [
              "<Figure size 504x360 with 1 Axes>"
            ]
          },
          "metadata": {
            "tags": [],
            "needs_background": "light"
          }
        }
      ]
    },
    {
      "cell_type": "code",
      "metadata": {
        "id": "RSLUHVAxJfS1"
      },
      "source": [
        "# y_hat will have the form y_hat = m*x + b \r\n",
        "# Where x is vector which contains all numbers of claims, m is the slope of the line, and b is bias\r\n",
        "\r\n",
        "# Let\r\n",
        "m = 0\r\n",
        "b = 0\r\n",
        "epochs = 100\r\n",
        "lr = 0.0001\r\n",
        "n = np.float(len(X)) # 63\r\n",
        "\r\n",
        "\r\n",
        "cost_history = []\r\n",
        "\r\n",
        "for _ in range(epochs):\r\n",
        "    # traning loop\r\n",
        "\r\n",
        "    y_hat = m*X + b # has the shape (63,1)\r\n",
        "    mse = np.sum((Y - y_hat)**2) / n\r\n",
        "    cost_history.append(mse) \r\n",
        "\r\n",
        "    # derivatives\r\n",
        "\r\n",
        "    dm = (-2 / n) * np.sum(X * (Y - y_hat))\r\n",
        "    db = (-2 / n) * np.sum(Y - y_hat)\r\n",
        "\r\n",
        "\r\n",
        "    # updates\r\n",
        "\r\n",
        "    m = m - lr * dm\r\n",
        "    b = b - lr * db\r\n",
        "\r\n"
      ],
      "execution_count": 9,
      "outputs": []
    },
    {
      "cell_type": "code",
      "metadata": {
        "colab": {
          "base_uri": "https://localhost:8080/"
        },
        "id": "LC17QH0ELRay",
        "outputId": "509b913a-9ab3-4353-919b-e760fcd98dd6"
      },
      "source": [
        "print(\"Optimal M : {}, Optimal B : {}\".format(m,b))"
      ],
      "execution_count": 10,
      "outputs": [
        {
          "output_type": "stream",
          "text": [
            "Optimal M : 3.8394354507293165, Optimal B : 0.28327009014941695\n"
          ],
          "name": "stdout"
        }
      ]
    },
    {
      "cell_type": "code",
      "metadata": {
        "colab": {
          "base_uri": "https://localhost:8080/",
          "height": 513
        },
        "id": "N6fElUxONnMo",
        "outputId": "be24a612-1519-432c-8206-1836e847a830"
      },
      "source": [
        "# Visualizing our line of best fit\r\n",
        "\r\n",
        "x_line = np.linspace(0, 140, 10)\r\n",
        "y_line = m * x_line + b\r\n",
        "plt.figure(figsize=(10,8))\r\n",
        "plt.title('Distribution')\r\n",
        "plt.plot(x_line, y_line, c='r')\r\n",
        "plt.scatter(X, Y)\r\n",
        "plt.xlabel('Claims')\r\n",
        "plt.ylabel('Payment')\r\n",
        "plt.show()"
      ],
      "execution_count": 11,
      "outputs": [
        {
          "output_type": "display_data",
          "data": {
            "image/png": "[encoded data removed]",
            "text/plain": [
              "<Figure size 720x576 with 1 Axes>"
            ]
          },
          "metadata": {
            "tags": [],
            "needs_background": "light"
          }
        }
      ]
    },
    {
      "cell_type": "code",
      "metadata": {
        "colab": {
          "base_uri": "https://localhost:8080/",
          "height": 421
        },
        "id": "_eUFaZvBOwZb",
        "outputId": "040cf65c-9548-474f-dd8e-481062aeb181"
      },
      "source": [
        "# Visualizing cost over time\r\n",
        "\r\n",
        "plt.figure(figsize=(8,6))\r\n",
        "plt.title(\"Cost over time\")\r\n",
        "plt.xlabel(\"Epoch\")\r\n",
        "plt.ylabel(\"Cost\")\r\n",
        "plt.plot(cost_history)"
      ],
      "execution_count": 12,
      "outputs": [
        {
          "output_type": "execute_result",
          "data": {
            "text/plain": [
              "[<matplotlib.lines.Line2D at 0x7f064589ea90>]"
            ]
          },
          "metadata": {
            "tags": []
          },
          "execution_count": 12
        },
        {
          "output_type": "display_data",
          "data": {
            "image/png": "[encoded data removed]",
            "text/plain": [
              "<Figure size 576x432 with 1 Axes>"
            ]
          },
          "metadata": {
            "tags": [],
            "needs_background": "light"
          }
        }
      ]
    },
    {
      "cell_type": "code",
      "metadata": {
        "id": "hLSnPNJ-RCgd"
      },
      "source": [
        ""
      ],
      "execution_count": null,
      "outputs": []
    }
  ]
}